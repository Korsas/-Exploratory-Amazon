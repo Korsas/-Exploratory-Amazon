{
 "cells": [
  {
   "cell_type": "markdown",
   "id": "ac0b4f80",
   "metadata": {
    "papermill": {
     "duration": 0.006267,
     "end_time": "2024-05-17T13:11:44.302368",
     "exception": false,
     "start_time": "2024-05-17T13:11:44.296101",
     "status": "completed"
    },
    "tags": []
   },
   "source": [
    "## Overview\n",
    "Data from https://www.kaggle.com/datasets/swathiunnikrishnan/amazon-consumer-behaviour-dataset/data\n",
    "\n",
    "Legend of the Data:\n",
    "\n",
    "1.age= age\n",
    "2.gender= gender\n",
    "3.Purchase_Frequency= How frequently do you make purchases on Amazon?\n",
    "4.Purchase_Categories= What product categories do you typically purchase on Amazon?\n",
    "5.Personalized_Recommendation_Frequency = Have you ever made a purchase based on personalized product recommendations from Amazon?\n",
    "6.Browsing_Frequency =How often do you browse Amazon's website or app?\n",
    "7.Product_Search_Method =How do you search for products on Amazon?\n",
    "8.Search_Result_Exploration =Do you tend to explore multiple pages of search results or focus on the first page?\n",
    "9.Customer_Reviews_Importance =How important are customer reviews in your decision-making process?\n",
    "10.Add_to_Cart_Browsing =Do you add products to your cart while browsing on Amazon?\n",
    "11.Cart_Completion_Frequency =How often do you complete the purchase after adding products to your cart?\n",
    "12.Cart_Abandonment_Factors =What factors influence your decision to abandon a purchase in your cart?\n",
    "13.Saveforlater_Frequency =Do you use Amazon's \"Save for Later\" feature, and if so, how often?\n",
    "14.Review_Left =Have you ever left a product review on Amazon?\n",
    "15.Review_Reliability =How much do you rely on product reviews when making a purchase?\n",
    "16.Review_Helpfulness =Do you find helpful information from other customers' reviews?\n",
    "17.Personalized_Recommendation_Frequency =How often do you receive personalized product recommendations from Amazon?\n",
    "18.Recommendation_Helpfulness =Do you find the recommendations helpful?\n",
    "19.Rating_Accuracy =How would you rate the relevance and accuracy of the recommendations you receive\n",
    "20.Shopping_Satisfaction =How satisfied are you with your overall shopping experience on Amazon?\n",
    "23.Service_Appreciation =What aspects of Amazon's services do you appreciate the most?\n",
    "24.Improvement_Areas =Are there any areas where you think Amazon can improve?"
   ]
  },
  {
   "cell_type": "code",
   "execution_count": 1,
   "id": "a59253e5",
   "metadata": {
    "execution": {
     "iopub.execute_input": "2024-05-17T13:11:44.315183Z",
     "iopub.status.busy": "2024-05-17T13:11:44.314417Z",
     "iopub.status.idle": "2024-05-17T13:11:44.321976Z",
     "shell.execute_reply": "2024-05-17T13:11:44.321056Z"
    },
    "papermill": {
     "duration": 0.016467,
     "end_time": "2024-05-17T13:11:44.324260",
     "exception": false,
     "start_time": "2024-05-17T13:11:44.307793",
     "status": "completed"
    },
    "tags": []
   },
   "outputs": [],
   "source": [
    "## Autoreloader if needed\n",
    "#%load_ext autoreload\n",
    "#%autoreload 2"
   ]
  },
  {
   "cell_type": "code",
   "execution_count": 2,
   "id": "674682ef",
   "metadata": {
    "_cell_guid": "b1076dfc-b9ad-4769-8c92-a6c4dae69d19",
    "_uuid": "8f2839f25d086af736a60e9eeb907d3b93b6e0e5",
    "execution": {
     "iopub.execute_input": "2024-05-17T13:11:44.335869Z",
     "iopub.status.busy": "2024-05-17T13:11:44.335503Z",
     "iopub.status.idle": "2024-05-17T13:11:45.147432Z",
     "shell.execute_reply": "2024-05-17T13:11:45.146177Z"
    },
    "papermill": {
     "duration": 0.820136,
     "end_time": "2024-05-17T13:11:45.149649",
     "exception": false,
     "start_time": "2024-05-17T13:11:44.329513",
     "status": "completed"
    },
    "tags": []
   },
   "outputs": [
    {
     "name": "stdout",
     "output_type": "stream",
     "text": [
      "/kaggle/input/amazon-consumer-behaviour-dataset/Amazon Customer Behavior Survey.csv\n"
     ]
    }
   ],
   "source": [
    "# This Python 3 environment comes with many helpful analytics libraries installed\n",
    "# It is defined by the kaggle/python Docker image: https://github.com/kaggle/docker-python\n",
    "# For example, here's several helpful packages to load\n",
    "\n",
    "import numpy as np # linear algebra\n",
    "import pandas as pd # data processing, CSV file I/O (e.g. pd.read_csv)\n",
    "import warnings # for kaggle issue warnings to block\n",
    "import matplotlib.pyplot as plt\n",
    "\n",
    "warnings.filterwarnings(\"ignore\")\n",
    "\n",
    "# Input data files are available in the read-only \"../input/\" directory\n",
    "# For example, running this (by clicking run or pressing Shift+Enter) will list all files under the input directory\n",
    "\n",
    "import os\n",
    "for dirname, _, filenames in os.walk('/kaggle/input'):\n",
    "    for filename in filenames:\n",
    "        print(os.path.join(dirname, filename))\n",
    "\n",
    "# You can write up to 20GB to the current directory (/kaggle/working/) that gets preserved as output when you create a version using \"Save & Run All\" \n",
    "# You can also write temporary files to /kaggle/temp/, but they won't be saved outside of the current session"
   ]
  },
  {
   "cell_type": "raw",
   "id": "e8346c1e",
   "metadata": {
    "papermill": {
     "duration": 0.005043,
     "end_time": "2024-05-17T13:11:45.160021",
     "exception": false,
     "start_time": "2024-05-17T13:11:45.154978",
     "status": "completed"
    },
    "tags": []
   },
   "source": [
    "##Starting the Analysis\n",
    "\n",
    "First check about basic data insights. Starting with BackUp-Creation"
   ]
  },
  {
   "cell_type": "code",
   "execution_count": 3,
   "id": "08b67321",
   "metadata": {
    "execution": {
     "iopub.execute_input": "2024-05-17T13:11:45.172225Z",
     "iopub.status.busy": "2024-05-17T13:11:45.171742Z",
     "iopub.status.idle": "2024-05-17T13:11:46.445138Z",
     "shell.execute_reply": "2024-05-17T13:11:46.444062Z"
    },
    "papermill": {
     "duration": 1.282373,
     "end_time": "2024-05-17T13:11:46.447664",
     "exception": false,
     "start_time": "2024-05-17T13:11:45.165291",
     "status": "completed"
    },
    "tags": []
   },
   "outputs": [],
   "source": [
    "# additional tools used\n",
    "import seaborn as sns"
   ]
  },
  {
   "cell_type": "code",
   "execution_count": 4,
   "id": "7d52cbbf",
   "metadata": {
    "execution": {
     "iopub.execute_input": "2024-05-17T13:11:46.459879Z",
     "iopub.status.busy": "2024-05-17T13:11:46.459489Z",
     "iopub.status.idle": "2024-05-17T13:11:46.510947Z",
     "shell.execute_reply": "2024-05-17T13:11:46.509891Z"
    },
    "papermill": {
     "duration": 0.060333,
     "end_time": "2024-05-17T13:11:46.513426",
     "exception": false,
     "start_time": "2024-05-17T13:11:46.453093",
     "status": "completed"
    },
    "tags": []
   },
   "outputs": [
    {
     "name": "stdout",
     "output_type": "stream",
     "text": [
      "raw strurcture\n"
     ]
    },
    {
     "data": {
      "text/html": [
       "<div>\n",
       "<style scoped>\n",
       "    .dataframe tbody tr th:only-of-type {\n",
       "        vertical-align: middle;\n",
       "    }\n",
       "\n",
       "    .dataframe tbody tr th {\n",
       "        vertical-align: top;\n",
       "    }\n",
       "\n",
       "    .dataframe thead th {\n",
       "        text-align: right;\n",
       "    }\n",
       "</style>\n",
       "<table border=\"1\" class=\"dataframe\">\n",
       "  <thead>\n",
       "    <tr style=\"text-align: right;\">\n",
       "      <th></th>\n",
       "      <th>Timestamp</th>\n",
       "      <th>age</th>\n",
       "      <th>Gender</th>\n",
       "      <th>Purchase_Frequency</th>\n",
       "      <th>Purchase_Categories</th>\n",
       "      <th>Personalized_Recommendation_Frequency</th>\n",
       "      <th>Browsing_Frequency</th>\n",
       "      <th>Product_Search_Method</th>\n",
       "      <th>Search_Result_Exploration</th>\n",
       "      <th>Customer_Reviews_Importance</th>\n",
       "      <th>...</th>\n",
       "      <th>Saveforlater_Frequency</th>\n",
       "      <th>Review_Left</th>\n",
       "      <th>Review_Reliability</th>\n",
       "      <th>Review_Helpfulness</th>\n",
       "      <th>Personalized_Recommendation_Frequency</th>\n",
       "      <th>Recommendation_Helpfulness</th>\n",
       "      <th>Rating_Accuracy</th>\n",
       "      <th>Shopping_Satisfaction</th>\n",
       "      <th>Service_Appreciation</th>\n",
       "      <th>Improvement_Areas</th>\n",
       "    </tr>\n",
       "  </thead>\n",
       "  <tbody>\n",
       "    <tr>\n",
       "      <th>0</th>\n",
       "      <td>2023/06/04 1:28:19 PM GMT+5:30</td>\n",
       "      <td>23</td>\n",
       "      <td>Female</td>\n",
       "      <td>Few times a month</td>\n",
       "      <td>Beauty and Personal Care</td>\n",
       "      <td>Yes</td>\n",
       "      <td>Few times a week</td>\n",
       "      <td>Keyword</td>\n",
       "      <td>Multiple pages</td>\n",
       "      <td>1</td>\n",
       "      <td>...</td>\n",
       "      <td>Sometimes</td>\n",
       "      <td>Yes</td>\n",
       "      <td>Occasionally</td>\n",
       "      <td>Yes</td>\n",
       "      <td>2</td>\n",
       "      <td>Yes</td>\n",
       "      <td>1</td>\n",
       "      <td>1</td>\n",
       "      <td>Competitive prices</td>\n",
       "      <td>Reducing packaging waste</td>\n",
       "    </tr>\n",
       "    <tr>\n",
       "      <th>1</th>\n",
       "      <td>2023/06/04 2:30:44 PM GMT+5:30</td>\n",
       "      <td>23</td>\n",
       "      <td>Female</td>\n",
       "      <td>Once a month</td>\n",
       "      <td>Clothing and Fashion</td>\n",
       "      <td>Yes</td>\n",
       "      <td>Few times a month</td>\n",
       "      <td>Keyword</td>\n",
       "      <td>Multiple pages</td>\n",
       "      <td>1</td>\n",
       "      <td>...</td>\n",
       "      <td>Rarely</td>\n",
       "      <td>No</td>\n",
       "      <td>Heavily</td>\n",
       "      <td>Yes</td>\n",
       "      <td>2</td>\n",
       "      <td>Sometimes</td>\n",
       "      <td>3</td>\n",
       "      <td>2</td>\n",
       "      <td>Wide product selection</td>\n",
       "      <td>Reducing packaging waste</td>\n",
       "    </tr>\n",
       "    <tr>\n",
       "      <th>2</th>\n",
       "      <td>2023/06/04 5:04:56 PM GMT+5:30</td>\n",
       "      <td>24</td>\n",
       "      <td>Prefer not to say</td>\n",
       "      <td>Few times a month</td>\n",
       "      <td>Groceries and Gourmet Food;Clothing and Fashion</td>\n",
       "      <td>No</td>\n",
       "      <td>Few times a month</td>\n",
       "      <td>Keyword</td>\n",
       "      <td>Multiple pages</td>\n",
       "      <td>2</td>\n",
       "      <td>...</td>\n",
       "      <td>Rarely</td>\n",
       "      <td>No</td>\n",
       "      <td>Occasionally</td>\n",
       "      <td>No</td>\n",
       "      <td>4</td>\n",
       "      <td>No</td>\n",
       "      <td>3</td>\n",
       "      <td>3</td>\n",
       "      <td>Competitive prices</td>\n",
       "      <td>Product quality and accuracy</td>\n",
       "    </tr>\n",
       "    <tr>\n",
       "      <th>3</th>\n",
       "      <td>2023/06/04 5:13:00 PM GMT+5:30</td>\n",
       "      <td>24</td>\n",
       "      <td>Female</td>\n",
       "      <td>Once a month</td>\n",
       "      <td>Beauty and Personal Care;Clothing and Fashion;...</td>\n",
       "      <td>Sometimes</td>\n",
       "      <td>Few times a month</td>\n",
       "      <td>Keyword</td>\n",
       "      <td>First page</td>\n",
       "      <td>5</td>\n",
       "      <td>...</td>\n",
       "      <td>Sometimes</td>\n",
       "      <td>Yes</td>\n",
       "      <td>Heavily</td>\n",
       "      <td>Yes</td>\n",
       "      <td>3</td>\n",
       "      <td>Sometimes</td>\n",
       "      <td>3</td>\n",
       "      <td>4</td>\n",
       "      <td>Competitive prices</td>\n",
       "      <td>Product quality and accuracy</td>\n",
       "    </tr>\n",
       "    <tr>\n",
       "      <th>4</th>\n",
       "      <td>2023/06/04 5:28:06 PM GMT+5:30</td>\n",
       "      <td>22</td>\n",
       "      <td>Female</td>\n",
       "      <td>Less than once a month</td>\n",
       "      <td>Beauty and Personal Care;Clothing and Fashion</td>\n",
       "      <td>Yes</td>\n",
       "      <td>Few times a month</td>\n",
       "      <td>Filter</td>\n",
       "      <td>Multiple pages</td>\n",
       "      <td>1</td>\n",
       "      <td>...</td>\n",
       "      <td>Rarely</td>\n",
       "      <td>No</td>\n",
       "      <td>Heavily</td>\n",
       "      <td>Yes</td>\n",
       "      <td>4</td>\n",
       "      <td>Yes</td>\n",
       "      <td>2</td>\n",
       "      <td>2</td>\n",
       "      <td>Competitive prices</td>\n",
       "      <td>Product quality and accuracy</td>\n",
       "    </tr>\n",
       "  </tbody>\n",
       "</table>\n",
       "<p>5 rows × 23 columns</p>\n",
       "</div>"
      ],
      "text/plain": [
       "                        Timestamp  age             Gender  \\\n",
       "0  2023/06/04 1:28:19 PM GMT+5:30   23             Female   \n",
       "1  2023/06/04 2:30:44 PM GMT+5:30   23             Female   \n",
       "2  2023/06/04 5:04:56 PM GMT+5:30   24  Prefer not to say   \n",
       "3  2023/06/04 5:13:00 PM GMT+5:30   24             Female   \n",
       "4  2023/06/04 5:28:06 PM GMT+5:30   22             Female   \n",
       "\n",
       "       Purchase_Frequency                                Purchase_Categories  \\\n",
       "0       Few times a month                           Beauty and Personal Care   \n",
       "1            Once a month                               Clothing and Fashion   \n",
       "2       Few times a month    Groceries and Gourmet Food;Clothing and Fashion   \n",
       "3            Once a month  Beauty and Personal Care;Clothing and Fashion;...   \n",
       "4  Less than once a month      Beauty and Personal Care;Clothing and Fashion   \n",
       "\n",
       "  Personalized_Recommendation_Frequency Browsing_Frequency  \\\n",
       "0                                   Yes   Few times a week   \n",
       "1                                   Yes  Few times a month   \n",
       "2                                    No  Few times a month   \n",
       "3                             Sometimes  Few times a month   \n",
       "4                                   Yes  Few times a month   \n",
       "\n",
       "  Product_Search_Method Search_Result_Exploration  \\\n",
       "0               Keyword            Multiple pages   \n",
       "1               Keyword            Multiple pages   \n",
       "2               Keyword            Multiple pages   \n",
       "3               Keyword                First page   \n",
       "4                Filter            Multiple pages   \n",
       "\n",
       "   Customer_Reviews_Importance  ... Saveforlater_Frequency Review_Left  \\\n",
       "0                            1  ...              Sometimes         Yes   \n",
       "1                            1  ...                 Rarely          No   \n",
       "2                            2  ...                 Rarely          No   \n",
       "3                            5  ...              Sometimes         Yes   \n",
       "4                            1  ...                 Rarely          No   \n",
       "\n",
       "  Review_Reliability Review_Helpfulness  \\\n",
       "0       Occasionally                Yes   \n",
       "1            Heavily                Yes   \n",
       "2       Occasionally                 No   \n",
       "3            Heavily                Yes   \n",
       "4            Heavily                Yes   \n",
       "\n",
       "  Personalized_Recommendation_Frequency  Recommendation_Helpfulness  \\\n",
       "0                                      2                        Yes   \n",
       "1                                      2                  Sometimes   \n",
       "2                                      4                         No   \n",
       "3                                      3                  Sometimes   \n",
       "4                                      4                        Yes   \n",
       "\n",
       "  Rating_Accuracy   Shopping_Satisfaction    Service_Appreciation  \\\n",
       "0                1                      1      Competitive prices   \n",
       "1                3                      2  Wide product selection   \n",
       "2                3                      3      Competitive prices   \n",
       "3                3                      4      Competitive prices   \n",
       "4                2                      2      Competitive prices   \n",
       "\n",
       "              Improvement_Areas  \n",
       "0      Reducing packaging waste  \n",
       "1      Reducing packaging waste  \n",
       "2  Product quality and accuracy  \n",
       "3  Product quality and accuracy  \n",
       "4  Product quality and accuracy  \n",
       "\n",
       "[5 rows x 23 columns]"
      ]
     },
     "execution_count": 4,
     "metadata": {},
     "output_type": "execute_result"
    }
   ],
   "source": [
    "raw_data = pd.read_csv(\"/kaggle/input/amazon-consumer-behaviour-dataset/Amazon Customer Behavior Survey.csv\")\n",
    "original_data = raw_data.copy()\n",
    "print(\"raw strurcture\")\n",
    "raw_data.head()\n"
   ]
  },
  {
   "cell_type": "code",
   "execution_count": 5,
   "id": "db7324ab",
   "metadata": {
    "execution": {
     "iopub.execute_input": "2024-05-17T13:11:46.527257Z",
     "iopub.status.busy": "2024-05-17T13:11:46.526604Z",
     "iopub.status.idle": "2024-05-17T13:11:46.554577Z",
     "shell.execute_reply": "2024-05-17T13:11:46.553603Z"
    },
    "papermill": {
     "duration": 0.037484,
     "end_time": "2024-05-17T13:11:46.556624",
     "exception": false,
     "start_time": "2024-05-17T13:11:46.519140",
     "status": "completed"
    },
    "tags": []
   },
   "outputs": [
    {
     "name": "stdout",
     "output_type": "stream",
     "text": [
      "more insights\n"
     ]
    },
    {
     "data": {
      "text/html": [
       "<div>\n",
       "<style scoped>\n",
       "    .dataframe tbody tr th:only-of-type {\n",
       "        vertical-align: middle;\n",
       "    }\n",
       "\n",
       "    .dataframe tbody tr th {\n",
       "        vertical-align: top;\n",
       "    }\n",
       "\n",
       "    .dataframe thead th {\n",
       "        text-align: right;\n",
       "    }\n",
       "</style>\n",
       "<table border=\"1\" class=\"dataframe\">\n",
       "  <thead>\n",
       "    <tr style=\"text-align: right;\">\n",
       "      <th></th>\n",
       "      <th>age</th>\n",
       "      <th>Customer_Reviews_Importance</th>\n",
       "      <th>Personalized_Recommendation_Frequency</th>\n",
       "      <th>Rating_Accuracy</th>\n",
       "      <th>Shopping_Satisfaction</th>\n",
       "    </tr>\n",
       "  </thead>\n",
       "  <tbody>\n",
       "    <tr>\n",
       "      <th>count</th>\n",
       "      <td>602.000000</td>\n",
       "      <td>602.000000</td>\n",
       "      <td>602.000000</td>\n",
       "      <td>602.000000</td>\n",
       "      <td>602.000000</td>\n",
       "    </tr>\n",
       "    <tr>\n",
       "      <th>mean</th>\n",
       "      <td>30.790698</td>\n",
       "      <td>2.480066</td>\n",
       "      <td>2.699336</td>\n",
       "      <td>2.672757</td>\n",
       "      <td>2.463455</td>\n",
       "    </tr>\n",
       "    <tr>\n",
       "      <th>std</th>\n",
       "      <td>10.193276</td>\n",
       "      <td>1.185226</td>\n",
       "      <td>1.042028</td>\n",
       "      <td>0.899744</td>\n",
       "      <td>1.012152</td>\n",
       "    </tr>\n",
       "    <tr>\n",
       "      <th>min</th>\n",
       "      <td>3.000000</td>\n",
       "      <td>1.000000</td>\n",
       "      <td>1.000000</td>\n",
       "      <td>1.000000</td>\n",
       "      <td>1.000000</td>\n",
       "    </tr>\n",
       "    <tr>\n",
       "      <th>25%</th>\n",
       "      <td>23.000000</td>\n",
       "      <td>1.000000</td>\n",
       "      <td>2.000000</td>\n",
       "      <td>2.000000</td>\n",
       "      <td>2.000000</td>\n",
       "    </tr>\n",
       "    <tr>\n",
       "      <th>50%</th>\n",
       "      <td>26.000000</td>\n",
       "      <td>3.000000</td>\n",
       "      <td>3.000000</td>\n",
       "      <td>3.000000</td>\n",
       "      <td>2.000000</td>\n",
       "    </tr>\n",
       "    <tr>\n",
       "      <th>75%</th>\n",
       "      <td>36.000000</td>\n",
       "      <td>3.000000</td>\n",
       "      <td>3.000000</td>\n",
       "      <td>3.000000</td>\n",
       "      <td>3.000000</td>\n",
       "    </tr>\n",
       "    <tr>\n",
       "      <th>max</th>\n",
       "      <td>67.000000</td>\n",
       "      <td>5.000000</td>\n",
       "      <td>5.000000</td>\n",
       "      <td>5.000000</td>\n",
       "      <td>5.000000</td>\n",
       "    </tr>\n",
       "  </tbody>\n",
       "</table>\n",
       "</div>"
      ],
      "text/plain": [
       "              age  Customer_Reviews_Importance  \\\n",
       "count  602.000000                   602.000000   \n",
       "mean    30.790698                     2.480066   \n",
       "std     10.193276                     1.185226   \n",
       "min      3.000000                     1.000000   \n",
       "25%     23.000000                     1.000000   \n",
       "50%     26.000000                     3.000000   \n",
       "75%     36.000000                     3.000000   \n",
       "max     67.000000                     5.000000   \n",
       "\n",
       "       Personalized_Recommendation_Frequency   Rating_Accuracy   \\\n",
       "count                              602.000000        602.000000   \n",
       "mean                                 2.699336          2.672757   \n",
       "std                                  1.042028          0.899744   \n",
       "min                                  1.000000          1.000000   \n",
       "25%                                  2.000000          2.000000   \n",
       "50%                                  3.000000          3.000000   \n",
       "75%                                  3.000000          3.000000   \n",
       "max                                  5.000000          5.000000   \n",
       "\n",
       "       Shopping_Satisfaction  \n",
       "count             602.000000  \n",
       "mean                2.463455  \n",
       "std                 1.012152  \n",
       "min                 1.000000  \n",
       "25%                 2.000000  \n",
       "50%                 2.000000  \n",
       "75%                 3.000000  \n",
       "max                 5.000000  "
      ]
     },
     "execution_count": 5,
     "metadata": {},
     "output_type": "execute_result"
    }
   ],
   "source": [
    "print(\"more insights\")\n",
    "original_data.describe()"
   ]
  },
  {
   "cell_type": "code",
   "execution_count": 6,
   "id": "012fdfe5",
   "metadata": {
    "execution": {
     "iopub.execute_input": "2024-05-17T13:11:46.570176Z",
     "iopub.status.busy": "2024-05-17T13:11:46.569803Z",
     "iopub.status.idle": "2024-05-17T13:11:46.592764Z",
     "shell.execute_reply": "2024-05-17T13:11:46.591695Z"
    },
    "papermill": {
     "duration": 0.033006,
     "end_time": "2024-05-17T13:11:46.595655",
     "exception": false,
     "start_time": "2024-05-17T13:11:46.562649",
     "status": "completed"
    },
    "tags": []
   },
   "outputs": [
    {
     "name": "stdout",
     "output_type": "stream",
     "text": [
      "<class 'pandas.core.frame.DataFrame'>\n",
      "RangeIndex: 602 entries, 0 to 601\n",
      "Data columns (total 23 columns):\n",
      " #   Column                                  Non-Null Count  Dtype \n",
      "---  ------                                  --------------  ----- \n",
      " 0   Timestamp                               602 non-null    object\n",
      " 1   age                                     602 non-null    int64 \n",
      " 2   Gender                                  602 non-null    object\n",
      " 3   Purchase_Frequency                      602 non-null    object\n",
      " 4   Purchase_Categories                     602 non-null    object\n",
      " 5   Personalized_Recommendation_Frequency   602 non-null    object\n",
      " 6   Browsing_Frequency                      602 non-null    object\n",
      " 7   Product_Search_Method                   600 non-null    object\n",
      " 8   Search_Result_Exploration               602 non-null    object\n",
      " 9   Customer_Reviews_Importance             602 non-null    int64 \n",
      " 10  Add_to_Cart_Browsing                    602 non-null    object\n",
      " 11  Cart_Completion_Frequency               602 non-null    object\n",
      " 12  Cart_Abandonment_Factors                602 non-null    object\n",
      " 13  Saveforlater_Frequency                  602 non-null    object\n",
      " 14  Review_Left                             602 non-null    object\n",
      " 15  Review_Reliability                      602 non-null    object\n",
      " 16  Review_Helpfulness                      602 non-null    object\n",
      " 17  Personalized_Recommendation_Frequency   602 non-null    int64 \n",
      " 18  Recommendation_Helpfulness              602 non-null    object\n",
      " 19  Rating_Accuracy                         602 non-null    int64 \n",
      " 20  Shopping_Satisfaction                   602 non-null    int64 \n",
      " 21  Service_Appreciation                    602 non-null    object\n",
      " 22  Improvement_Areas                       602 non-null    object\n",
      "dtypes: int64(5), object(18)\n",
      "memory usage: 108.3+ KB\n",
      "None\n",
      "Timestamp                                 0\n",
      "age                                       0\n",
      "Gender                                    0\n",
      "Purchase_Frequency                        0\n",
      "Purchase_Categories                       0\n",
      "Personalized_Recommendation_Frequency     0\n",
      "Browsing_Frequency                        0\n",
      "Product_Search_Method                     2\n",
      "Search_Result_Exploration                 0\n",
      "Customer_Reviews_Importance               0\n",
      "Add_to_Cart_Browsing                      0\n",
      "Cart_Completion_Frequency                 0\n",
      "Cart_Abandonment_Factors                  0\n",
      "Saveforlater_Frequency                    0\n",
      "Review_Left                               0\n",
      "Review_Reliability                        0\n",
      "Review_Helpfulness                        0\n",
      "Personalized_Recommendation_Frequency     0\n",
      "Recommendation_Helpfulness                0\n",
      "Rating_Accuracy                           0\n",
      "Shopping_Satisfaction                     0\n",
      "Service_Appreciation                      0\n",
      "Improvement_Areas                         0\n",
      "dtype: int64\n"
     ]
    }
   ],
   "source": [
    "print(original_data.info())\n",
    "\n",
    "print(original_data.isna().sum())"
   ]
  },
  {
   "cell_type": "code",
   "execution_count": 7,
   "id": "ffcf08f6",
   "metadata": {
    "execution": {
     "iopub.execute_input": "2024-05-17T13:11:46.610453Z",
     "iopub.status.busy": "2024-05-17T13:11:46.609374Z",
     "iopub.status.idle": "2024-05-17T13:11:46.634844Z",
     "shell.execute_reply": "2024-05-17T13:11:46.633812Z"
    },
    "papermill": {
     "duration": 0.034913,
     "end_time": "2024-05-17T13:11:46.636913",
     "exception": false,
     "start_time": "2024-05-17T13:11:46.602000",
     "status": "completed"
    },
    "tags": []
   },
   "outputs": [
    {
     "name": "stdout",
     "output_type": "stream",
     "text": [
      "442     3\n",
      "578    12\n",
      "237    15\n",
      "Name: age, dtype: int64\n"
     ]
    },
    {
     "data": {
      "text/html": [
       "<div>\n",
       "<style scoped>\n",
       "    .dataframe tbody tr th:only-of-type {\n",
       "        vertical-align: middle;\n",
       "    }\n",
       "\n",
       "    .dataframe tbody tr th {\n",
       "        vertical-align: top;\n",
       "    }\n",
       "\n",
       "    .dataframe thead th {\n",
       "        text-align: right;\n",
       "    }\n",
       "</style>\n",
       "<table border=\"1\" class=\"dataframe\">\n",
       "  <thead>\n",
       "    <tr style=\"text-align: right;\">\n",
       "      <th></th>\n",
       "      <th>Timestamp</th>\n",
       "      <th>age</th>\n",
       "      <th>Gender</th>\n",
       "      <th>Purchase_Frequency</th>\n",
       "      <th>Purchase_Categories</th>\n",
       "      <th>Personalized_Recommendation_Frequency</th>\n",
       "      <th>Browsing_Frequency</th>\n",
       "      <th>Product_Search_Method</th>\n",
       "      <th>Search_Result_Exploration</th>\n",
       "      <th>Customer_Reviews_Importance</th>\n",
       "      <th>...</th>\n",
       "      <th>Saveforlater_Frequency</th>\n",
       "      <th>Review_Left</th>\n",
       "      <th>Review_Reliability</th>\n",
       "      <th>Review_Helpfulness</th>\n",
       "      <th>Personalized_Recommendation_Frequency</th>\n",
       "      <th>Recommendation_Helpfulness</th>\n",
       "      <th>Rating_Accuracy</th>\n",
       "      <th>Shopping_Satisfaction</th>\n",
       "      <th>Service_Appreciation</th>\n",
       "      <th>Improvement_Areas</th>\n",
       "    </tr>\n",
       "  </thead>\n",
       "  <tbody>\n",
       "    <tr>\n",
       "      <th>119</th>\n",
       "      <td>2023/06/06 2:07:12 PM GMT+5:30</td>\n",
       "      <td>21</td>\n",
       "      <td>Female</td>\n",
       "      <td>Once a month</td>\n",
       "      <td>Clothing and Fashion</td>\n",
       "      <td>Sometimes</td>\n",
       "      <td>Few times a week</td>\n",
       "      <td>NaN</td>\n",
       "      <td>Multiple pages</td>\n",
       "      <td>3</td>\n",
       "      <td>...</td>\n",
       "      <td>Often</td>\n",
       "      <td>No</td>\n",
       "      <td>Moderately</td>\n",
       "      <td>Sometimes</td>\n",
       "      <td>3</td>\n",
       "      <td>Sometimes</td>\n",
       "      <td>3</td>\n",
       "      <td>3</td>\n",
       "      <td>User-friendly website/app interface</td>\n",
       "      <td>Customer service responsiveness</td>\n",
       "    </tr>\n",
       "    <tr>\n",
       "      <th>382</th>\n",
       "      <td>2023/06/08 5:49:59 PM GMT+5:30</td>\n",
       "      <td>47</td>\n",
       "      <td>Female</td>\n",
       "      <td>Few times a month</td>\n",
       "      <td>Beauty and Personal Care;Clothing and Fashion;...</td>\n",
       "      <td>No</td>\n",
       "      <td>Multiple times a day</td>\n",
       "      <td>NaN</td>\n",
       "      <td>Multiple pages</td>\n",
       "      <td>1</td>\n",
       "      <td>...</td>\n",
       "      <td>Often</td>\n",
       "      <td>No</td>\n",
       "      <td>Moderately</td>\n",
       "      <td>No</td>\n",
       "      <td>2</td>\n",
       "      <td>No</td>\n",
       "      <td>3</td>\n",
       "      <td>2</td>\n",
       "      <td>Wide product selection</td>\n",
       "      <td>Shipping speed and reliability</td>\n",
       "    </tr>\n",
       "  </tbody>\n",
       "</table>\n",
       "<p>2 rows × 23 columns</p>\n",
       "</div>"
      ],
      "text/plain": [
       "                          Timestamp  age  Gender Purchase_Frequency  \\\n",
       "119  2023/06/06 2:07:12 PM GMT+5:30   21  Female       Once a month   \n",
       "382  2023/06/08 5:49:59 PM GMT+5:30   47  Female  Few times a month   \n",
       "\n",
       "                                   Purchase_Categories  \\\n",
       "119                               Clothing and Fashion   \n",
       "382  Beauty and Personal Care;Clothing and Fashion;...   \n",
       "\n",
       "    Personalized_Recommendation_Frequency    Browsing_Frequency  \\\n",
       "119                             Sometimes      Few times a week   \n",
       "382                                    No  Multiple times a day   \n",
       "\n",
       "    Product_Search_Method Search_Result_Exploration  \\\n",
       "119                   NaN            Multiple pages   \n",
       "382                   NaN            Multiple pages   \n",
       "\n",
       "     Customer_Reviews_Importance  ... Saveforlater_Frequency Review_Left  \\\n",
       "119                            3  ...                  Often          No   \n",
       "382                            1  ...                  Often          No   \n",
       "\n",
       "    Review_Reliability Review_Helpfulness  \\\n",
       "119         Moderately          Sometimes   \n",
       "382         Moderately                 No   \n",
       "\n",
       "    Personalized_Recommendation_Frequency  Recommendation_Helpfulness  \\\n",
       "119                                      3                  Sometimes   \n",
       "382                                      2                         No   \n",
       "\n",
       "    Rating_Accuracy   Shopping_Satisfaction  \\\n",
       "119                3                      3   \n",
       "382                3                      2   \n",
       "\n",
       "                    Service_Appreciation                Improvement_Areas  \n",
       "119  User-friendly website/app interface  Customer service responsiveness  \n",
       "382               Wide product selection   Shipping speed and reliability  \n",
       "\n",
       "[2 rows x 23 columns]"
      ]
     },
     "execution_count": 7,
     "metadata": {},
     "output_type": "execute_result"
    }
   ],
   "source": [
    "lowest_age = raw_data.nsmallest(10,'age')\n",
    "print(lowest_age['age'].head(3))\n",
    "original_data[original_data[\"Product_Search_Method\"].isna()]"
   ]
  },
  {
   "cell_type": "code",
   "execution_count": 8,
   "id": "61b86372",
   "metadata": {
    "execution": {
     "iopub.execute_input": "2024-05-17T13:11:46.651943Z",
     "iopub.status.busy": "2024-05-17T13:11:46.651063Z",
     "iopub.status.idle": "2024-05-17T13:11:46.677324Z",
     "shell.execute_reply": "2024-05-17T13:11:46.676367Z"
    },
    "papermill": {
     "duration": 0.036266,
     "end_time": "2024-05-17T13:11:46.679623",
     "exception": false,
     "start_time": "2024-05-17T13:11:46.643357",
     "status": "completed"
    },
    "tags": []
   },
   "outputs": [
    {
     "data": {
      "text/html": [
       "<div>\n",
       "<style scoped>\n",
       "    .dataframe tbody tr th:only-of-type {\n",
       "        vertical-align: middle;\n",
       "    }\n",
       "\n",
       "    .dataframe tbody tr th {\n",
       "        vertical-align: top;\n",
       "    }\n",
       "\n",
       "    .dataframe thead th {\n",
       "        text-align: right;\n",
       "    }\n",
       "</style>\n",
       "<table border=\"1\" class=\"dataframe\">\n",
       "  <thead>\n",
       "    <tr style=\"text-align: right;\">\n",
       "      <th></th>\n",
       "      <th>Timestamp</th>\n",
       "      <th>age</th>\n",
       "      <th>Gender</th>\n",
       "      <th>Purchase_Frequency</th>\n",
       "      <th>Purchase_Categories</th>\n",
       "      <th>Personalized_Recommendation_Frequency</th>\n",
       "      <th>Browsing_Frequency</th>\n",
       "      <th>Product_Search_Method</th>\n",
       "      <th>Search_Result_Exploration</th>\n",
       "      <th>Customer_Reviews_Importance</th>\n",
       "      <th>...</th>\n",
       "      <th>Saveforlater_Frequency</th>\n",
       "      <th>Review_Left</th>\n",
       "      <th>Review_Reliability</th>\n",
       "      <th>Review_Helpfulness</th>\n",
       "      <th>Personalized_Recommendation_Frequency</th>\n",
       "      <th>Recommendation_Helpfulness</th>\n",
       "      <th>Rating_Accuracy</th>\n",
       "      <th>Shopping_Satisfaction</th>\n",
       "      <th>Service_Appreciation</th>\n",
       "      <th>Improvement_Areas</th>\n",
       "    </tr>\n",
       "  </thead>\n",
       "  <tbody>\n",
       "    <tr>\n",
       "      <th>442</th>\n",
       "      <td>2023/06/09 10:28:57 AM GMT+5:30</td>\n",
       "      <td>3</td>\n",
       "      <td>Prefer not to say</td>\n",
       "      <td>Once a month</td>\n",
       "      <td>Home and Kitchen</td>\n",
       "      <td>No</td>\n",
       "      <td>Few times a week</td>\n",
       "      <td>categories</td>\n",
       "      <td>First page</td>\n",
       "      <td>3</td>\n",
       "      <td>...</td>\n",
       "      <td>Often</td>\n",
       "      <td>Yes</td>\n",
       "      <td>Occasionally</td>\n",
       "      <td>Sometimes</td>\n",
       "      <td>3</td>\n",
       "      <td>Sometimes</td>\n",
       "      <td>3</td>\n",
       "      <td>2</td>\n",
       "      <td>Competitive prices</td>\n",
       "      <td>Customer service responsiveness</td>\n",
       "    </tr>\n",
       "  </tbody>\n",
       "</table>\n",
       "<p>1 rows × 23 columns</p>\n",
       "</div>"
      ],
      "text/plain": [
       "                           Timestamp  age             Gender  \\\n",
       "442  2023/06/09 10:28:57 AM GMT+5:30    3  Prefer not to say   \n",
       "\n",
       "    Purchase_Frequency Purchase_Categories  \\\n",
       "442       Once a month    Home and Kitchen   \n",
       "\n",
       "    Personalized_Recommendation_Frequency Browsing_Frequency  \\\n",
       "442                                    No   Few times a week   \n",
       "\n",
       "    Product_Search_Method Search_Result_Exploration  \\\n",
       "442            categories                First page   \n",
       "\n",
       "     Customer_Reviews_Importance  ... Saveforlater_Frequency Review_Left  \\\n",
       "442                            3  ...                  Often         Yes   \n",
       "\n",
       "    Review_Reliability Review_Helpfulness  \\\n",
       "442       Occasionally          Sometimes   \n",
       "\n",
       "    Personalized_Recommendation_Frequency  Recommendation_Helpfulness  \\\n",
       "442                                      3                  Sometimes   \n",
       "\n",
       "    Rating_Accuracy   Shopping_Satisfaction Service_Appreciation  \\\n",
       "442                3                      2   Competitive prices   \n",
       "\n",
       "                   Improvement_Areas  \n",
       "442  Customer service responsiveness  \n",
       "\n",
       "[1 rows x 23 columns]"
      ]
     },
     "execution_count": 8,
     "metadata": {},
     "output_type": "execute_result"
    }
   ],
   "source": [
    "mode = raw_data['Product_Search_Method'].mode()[0]\n",
    "raw_data.fillna(mode,inplace=True)\n",
    "raw_data.drop_duplicates(inplace=True)\n",
    "raw_data.loc[[442]]"
   ]
  },
  {
   "cell_type": "code",
   "execution_count": 9,
   "id": "ee7b03fc",
   "metadata": {
    "execution": {
     "iopub.execute_input": "2024-05-17T13:11:46.695230Z",
     "iopub.status.busy": "2024-05-17T13:11:46.694330Z",
     "iopub.status.idle": "2024-05-17T13:11:46.700628Z",
     "shell.execute_reply": "2024-05-17T13:11:46.699589Z"
    },
    "papermill": {
     "duration": 0.016443,
     "end_time": "2024-05-17T13:11:46.702824",
     "exception": false,
     "start_time": "2024-05-17T13:11:46.686381",
     "status": "completed"
    },
    "tags": []
   },
   "outputs": [],
   "source": [
    "raw_data.drop(442,inplace=True)"
   ]
  },
  {
   "cell_type": "code",
   "execution_count": 10,
   "id": "a7f73ac1",
   "metadata": {
    "execution": {
     "iopub.execute_input": "2024-05-17T13:11:46.719347Z",
     "iopub.status.busy": "2024-05-17T13:11:46.718442Z",
     "iopub.status.idle": "2024-05-17T13:11:47.238080Z",
     "shell.execute_reply": "2024-05-17T13:11:47.237027Z"
    },
    "papermill": {
     "duration": 0.530872,
     "end_time": "2024-05-17T13:11:47.240672",
     "exception": false,
     "start_time": "2024-05-17T13:11:46.709800",
     "status": "completed"
    },
    "tags": []
   },
   "outputs": [
    {
     "data": {
      "text/plain": [
       "<Axes: >"
      ]
     },
     "execution_count": 10,
     "metadata": {},
     "output_type": "execute_result"
    },
    {
     "data": {
      "image/png": "[encoded data removed]",
      "text/plain": [
       "<Figure size 640x480 with 2 Axes>"
      ]
     },
     "metadata": {},
     "output_type": "display_data"
    }
   ],
   "source": [
    "corr_matrix = raw_data.corr(method='pearson',numeric_only=True)\n",
    "sns.heatmap(data=corr_matrix,annot=True)"
   ]
  },
  {
   "cell_type": "markdown",
   "id": "d46fb681",
   "metadata": {
    "papermill": {
     "duration": 0.007794,
     "end_time": "2024-05-17T13:11:47.256191",
     "exception": false,
     "start_time": "2024-05-17T13:11:47.248397",
     "status": "completed"
    },
    "tags": []
   },
   "source": [
    "## Analysis of Correaltion\n",
    "\n",
    "**Biggest (realtivly strong) correlation** between Rating_Accuracy and Shopping_Statisfaction. The higher the rating accuracy the higher also the customer is *happy* with his shopping experience. In the context the **Rating_Accuracy** is the main key factor for all three correlations of satisfaction, frequency and importance.\n",
    "\n",
    "**Smaller (realtivly weak) correlation:** \n",
    "The higher the Shopping Satisfaction (or vise versa affected by)\n",
    "- Review Importance by 0.4\n",
    "- Personalized Recomm. by 0.44\n",
    "-  Rating Accuracy by 0.51"
   ]
  },
  {
   "cell_type": "code",
   "execution_count": 11,
   "id": "036af14f",
   "metadata": {
    "execution": {
     "iopub.execute_input": "2024-05-17T13:11:47.273186Z",
     "iopub.status.busy": "2024-05-17T13:11:47.272805Z",
     "iopub.status.idle": "2024-05-17T13:11:47.722471Z",
     "shell.execute_reply": "2024-05-17T13:11:47.721464Z"
    },
    "papermill": {
     "duration": 0.460915,
     "end_time": "2024-05-17T13:11:47.724717",
     "exception": false,
     "start_time": "2024-05-17T13:11:47.263802",
     "status": "completed"
    },
    "tags": []
   },
   "outputs": [
    {
     "data": {
      "image/png": "[encoded data removed]",
      "text/plain": [
       "<Figure size 1200x600 with 1 Axes>"
      ]
     },
     "metadata": {},
     "output_type": "display_data"
    }
   ],
   "source": [
    "age_dist = sns.displot(raw_data['age'],kde=True,legend=True)\n",
    "age_dist.fig.set_size_inches(12, 6)\n",
    "plt.show()"
   ]
  },
  {
   "cell_type": "code",
   "execution_count": 12,
   "id": "80fb19c8",
   "metadata": {
    "execution": {
     "iopub.execute_input": "2024-05-17T13:11:47.743204Z",
     "iopub.status.busy": "2024-05-17T13:11:47.742830Z",
     "iopub.status.idle": "2024-05-17T13:11:48.056333Z",
     "shell.execute_reply": "2024-05-17T13:11:48.055245Z"
    },
    "papermill": {
     "duration": 0.325448,
     "end_time": "2024-05-17T13:11:48.058753",
     "exception": false,
     "start_time": "2024-05-17T13:11:47.733305",
     "status": "completed"
    },
    "tags": []
   },
   "outputs": [
    {
     "data": {
      "image/png": "[encoded data removed]",
      "text/plain": [
       "<Figure size 1200x600 with 1 Axes>"
      ]
     },
     "metadata": {},
     "output_type": "display_data"
    }
   ],
   "source": [
    "plt.figure(figsize=(12, 6))\n",
    "sns.countplot(x='Purchase_Frequency',data=raw_data,hue='Gender',width=0.6)\n",
    "plt.show()"
   ]
  },
  {
   "cell_type": "code",
   "execution_count": 13,
   "id": "a32932a1",
   "metadata": {
    "execution": {
     "iopub.execute_input": "2024-05-17T13:11:48.078460Z",
     "iopub.status.busy": "2024-05-17T13:11:48.078077Z",
     "iopub.status.idle": "2024-05-17T13:11:48.087892Z",
     "shell.execute_reply": "2024-05-17T13:11:48.086917Z"
    },
    "papermill": {
     "duration": 0.022259,
     "end_time": "2024-05-17T13:11:48.089991",
     "exception": false,
     "start_time": "2024-05-17T13:11:48.067732",
     "status": "completed"
    },
    "tags": []
   },
   "outputs": [
    {
     "data": {
      "text/plain": [
       "Shopping_Satisfaction\n",
       "3    209\n",
       "2    193\n",
       "1    115\n",
       "4     67\n",
       "5     17\n",
       "Name: count, dtype: int64"
      ]
     },
     "execution_count": 13,
     "metadata": {},
     "output_type": "execute_result"
    }
   ],
   "source": [
    "raw_data['Shopping_Satisfaction'].value_counts()"
   ]
  },
  {
   "cell_type": "code",
   "execution_count": 14,
   "id": "e9d56940",
   "metadata": {
    "execution": {
     "iopub.execute_input": "2024-05-17T13:11:48.109849Z",
     "iopub.status.busy": "2024-05-17T13:11:48.108975Z",
     "iopub.status.idle": "2024-05-17T13:11:48.117304Z",
     "shell.execute_reply": "2024-05-17T13:11:48.116322Z"
    },
    "papermill": {
     "duration": 0.02027,
     "end_time": "2024-05-17T13:11:48.119279",
     "exception": false,
     "start_time": "2024-05-17T13:11:48.099009",
     "status": "completed"
    },
    "tags": []
   },
   "outputs": [
    {
     "data": {
      "text/plain": [
       "Improvement_Areas\n",
       "Customer service responsiveness                                                   216\n",
       "Product quality and accuracy                                                      159\n",
       "Reducing packaging waste                                                          133\n",
       "Shipping speed and reliability                                                     79\n",
       "Quality of product is very poor according to the big offers                         1\n",
       "I don't have any problem with Amazon                                                1\n",
       "User interface of app                                                               1\n",
       "Irrelevant product suggestions                                                      1\n",
       "User interface                                                                      1\n",
       "I have no problem with Amazon yet. But others tell me about the refund issues       1\n",
       "UI                                                                                  1\n",
       "Scrolling option would be much better than going to next page                       1\n",
       "Add more familiar brands to the list                                                1\n",
       "Nil                                                                                 1\n",
       "better app interface and lower shipping charges                                     1\n",
       "Nothing                                                                             1\n",
       ".                                                                                   1\n",
       "No problems with Amazon                                                             1\n",
       "Name: count, dtype: int64"
      ]
     },
     "execution_count": 14,
     "metadata": {},
     "output_type": "execute_result"
    }
   ],
   "source": [
    "raw_data['Improvement_Areas'].value_counts()"
   ]
  },
  {
   "cell_type": "code",
   "execution_count": 15,
   "id": "2bd0a2a4",
   "metadata": {
    "execution": {
     "iopub.execute_input": "2024-05-17T13:11:48.139714Z",
     "iopub.status.busy": "2024-05-17T13:11:48.139023Z",
     "iopub.status.idle": "2024-05-17T13:11:48.154261Z",
     "shell.execute_reply": "2024-05-17T13:11:48.152967Z"
    },
    "papermill": {
     "duration": 0.02753,
     "end_time": "2024-05-17T13:11:48.156356",
     "exception": false,
     "start_time": "2024-05-17T13:11:48.128826",
     "status": "completed"
    },
    "tags": []
   },
   "outputs": [
    {
     "name": "stdout",
     "output_type": "stream",
     "text": [
      "                         Timestamp  age Gender      Purchase_Frequency  \\\n",
      "22  2023/06/04 8:54:36 PM GMT+5:30   21   Male  Less than once a month   \n",
      "\n",
      "   Purchase_Categories Personalized_Recommendation_Frequency  \\\n",
      "22              others                                    No   \n",
      "\n",
      "   Browsing_Frequency Product_Search_Method Search_Result_Exploration  \\\n",
      "22   Few times a week                others            Multiple pages   \n",
      "\n",
      "    Customer_Reviews_Importance  ... Saveforlater_Frequency Review_Left  \\\n",
      "22                            1  ...                  Never          No   \n",
      "\n",
      "   Review_Reliability Review_Helpfulness  \\\n",
      "22              Never          Sometimes   \n",
      "\n",
      "   Personalized_Recommendation_Frequency  Recommendation_Helpfulness  \\\n",
      "22                                      3                  Sometimes   \n",
      "\n",
      "   Rating_Accuracy   Shopping_Satisfaction Service_Appreciation  \\\n",
      "22                3                      3                    .   \n",
      "\n",
      "    Improvement_Areas  \n",
      "22                  .  \n",
      "\n",
      "[1 rows x 23 columns]\n"
     ]
    }
   ],
   "source": [
    "print(raw_data.loc[raw_data['Improvement_Areas']=='.']\n",
    ")\n",
    "raw_data = raw_data.loc[raw_data['Improvement_Areas']!='.']\n"
   ]
  },
  {
   "cell_type": "code",
   "execution_count": 16,
   "id": "8244627d",
   "metadata": {
    "execution": {
     "iopub.execute_input": "2024-05-17T13:11:48.177092Z",
     "iopub.status.busy": "2024-05-17T13:11:48.176129Z",
     "iopub.status.idle": "2024-05-17T13:11:48.180564Z",
     "shell.execute_reply": "2024-05-17T13:11:48.179597Z"
    },
    "papermill": {
     "duration": 0.016904,
     "end_time": "2024-05-17T13:11:48.182697",
     "exception": false,
     "start_time": "2024-05-17T13:11:48.165793",
     "status": "completed"
    },
    "tags": []
   },
   "outputs": [],
   "source": [
    "#Alternativly\n",
    "#raw_data.drop(index=22,inplace=True)\n",
    "\n",
    "#To many small votes:\n",
    "#plt.figure(figsize=(15, 6))\n",
    "#sns.countplot(x='Improvement_Areas',data=raw_data,hue='Review_Left')"
   ]
  },
  {
   "cell_type": "code",
   "execution_count": 17,
   "id": "8627a28e",
   "metadata": {
    "execution": {
     "iopub.execute_input": "2024-05-17T13:11:48.203484Z",
     "iopub.status.busy": "2024-05-17T13:11:48.202594Z",
     "iopub.status.idle": "2024-05-17T13:11:48.209963Z",
     "shell.execute_reply": "2024-05-17T13:11:48.209002Z"
    },
    "papermill": {
     "duration": 0.020014,
     "end_time": "2024-05-17T13:11:48.212087",
     "exception": false,
     "start_time": "2024-05-17T13:11:48.192073",
     "status": "completed"
    },
    "tags": []
   },
   "outputs": [],
   "source": [
    "filtered_improvement = raw_data[raw_data['Improvement_Areas'].map(raw_data['Improvement_Areas'].value_counts()) >= 70]"
   ]
  },
  {
   "cell_type": "code",
   "execution_count": 18,
   "id": "ac9d37e4",
   "metadata": {
    "execution": {
     "iopub.execute_input": "2024-05-17T13:11:48.232203Z",
     "iopub.status.busy": "2024-05-17T13:11:48.231830Z",
     "iopub.status.idle": "2024-05-17T13:11:48.445873Z",
     "shell.execute_reply": "2024-05-17T13:11:48.444812Z"
    },
    "papermill": {
     "duration": 0.226587,
     "end_time": "2024-05-17T13:11:48.448062",
     "exception": false,
     "start_time": "2024-05-17T13:11:48.221475",
     "status": "completed"
    },
    "tags": []
   },
   "outputs": [
    {
     "data": {
      "image/png": "[encoded data removed]",
      "text/plain": [
       "<Figure size 1200x600 with 1 Axes>"
      ]
     },
     "metadata": {},
     "output_type": "display_data"
    }
   ],
   "source": [
    "plt.figure(figsize=(12, 6))\n",
    "sns.countplot(x='Improvement_Areas',data=filtered_improvement,hue='Review_Left')\n",
    "plt.show()"
   ]
  },
  {
   "cell_type": "code",
   "execution_count": null,
   "id": "6713fd3a",
   "metadata": {
    "papermill": {
     "duration": 0.00987,
     "end_time": "2024-05-17T13:11:48.468251",
     "exception": false,
     "start_time": "2024-05-17T13:11:48.458381",
     "status": "completed"
    },
    "tags": []
   },
   "outputs": [],
   "source": []
  }
 ],
 "metadata": {
  "kaggle": {
   "accelerator": "none",
   "dataSources": [
    {
     "datasetId": 3486077,
     "sourceId": 6087933,
     "sourceType": "datasetVersion"
    }
   ],
   "dockerImageVersionId": 30664,
   "isGpuEnabled": false,
   "isInternetEnabled": true,
   "language": "python",
   "sourceType": "notebook"
  },
  "kernelspec": {
   "display_name": "Python 3",
   "language": "python",
   "name": "python3"
  },
  "language_info": {
   "codemirror_mode": {
    "name": "ipython",
    "version": 3
   },
   "file_extension": ".py",
   "mimetype": "text/x-python",
   "name": "python",
   "nbconvert_exporter": "python",
   "pygments_lexer": "ipython3",
   "version": "3.10.13"
  },
  "papermill": {
   "default_parameters": {},
   "duration": 7.2475,
   "end_time": "2024-05-17T13:11:48.998683",
   "environment_variables": {},
   "exception": null,
   "input_path": "__notebook__.ipynb",
   "output_path": "__notebook__.ipynb",
   "parameters": {},
   "start_time": "2024-05-17T13:11:41.751183",
   "version": "2.5.0"
  }
 },
 "nbformat": 4,
 "nbformat_minor": 5
}
