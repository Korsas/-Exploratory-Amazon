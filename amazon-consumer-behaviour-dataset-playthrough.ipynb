{
 "cells": [
  {
   "cell_type": "code",
   "execution_count": 1,
   "id": "8c233b7e",
   "metadata": {
    "execution": {
     "iopub.execute_input": "2024-03-21T14:21:52.900061Z",
     "iopub.status.busy": "2024-03-21T14:21:52.899256Z",
     "iopub.status.idle": "2024-03-21T14:21:52.904755Z",
     "shell.execute_reply": "2024-03-21T14:21:52.903664Z"
    },
    "papermill": {
     "duration": 0.016987,
     "end_time": "2024-03-21T14:21:52.907668",
     "exception": false,
     "start_time": "2024-03-21T14:21:52.890681",
     "status": "completed"
    },
    "tags": []
   },
   "outputs": [],
   "source": [
    "## Autoreloader if needed\n",
    "#%load_ext autoreload\n",
    "#%autoreload 2"
   ]
  },
  {
   "cell_type": "code",
   "execution_count": 2,
   "id": "6d5b0e86",
   "metadata": {
    "_cell_guid": "b1076dfc-b9ad-4769-8c92-a6c4dae69d19",
    "_uuid": "8f2839f25d086af736a60e9eeb907d3b93b6e0e5",
    "execution": {
     "iopub.execute_input": "2024-03-21T14:21:52.921782Z",
     "iopub.status.busy": "2024-03-21T14:21:52.920909Z",
     "iopub.status.idle": "2024-03-21T14:21:54.158479Z",
     "shell.execute_reply": "2024-03-21T14:21:54.156527Z"
    },
    "papermill": {
     "duration": 1.248644,
     "end_time": "2024-03-21T14:21:54.161975",
     "exception": false,
     "start_time": "2024-03-21T14:21:52.913331",
     "status": "completed"
    },
    "tags": []
   },
   "outputs": [
    {
     "name": "stdout",
     "output_type": "stream",
     "text": [
      "/kaggle/input/amazon-consumer-behaviour-dataset/Amazon Customer Behavior Survey.csv\n"
     ]
    }
   ],
   "source": [
    "# This Python 3 environment comes with many helpful analytics libraries installed\n",
    "# It is defined by the kaggle/python Docker image: https://github.com/kaggle/docker-python\n",
    "# For example, here's several helpful packages to load\n",
    "\n",
    "import numpy as np # linear algebra\n",
    "import pandas as pd # data processing, CSV file I/O (e.g. pd.read_csv)\n",
    "\n",
    "# Input data files are available in the read-only \"../input/\" directory\n",
    "# For example, running this (by clicking run or pressing Shift+Enter) will list all files under the input directory\n",
    "\n",
    "import os\n",
    "for dirname, _, filenames in os.walk('/kaggle/input'):\n",
    "    for filename in filenames:\n",
    "        print(os.path.join(dirname, filename))\n",
    "\n",
    "# You can write up to 20GB to the current directory (/kaggle/working/) that gets preserved as output when you create a version using \"Save & Run All\" \n",
    "# You can also write temporary files to /kaggle/temp/, but they won't be saved outside of the current session"
   ]
  },
  {
   "cell_type": "raw",
   "id": "fc7d5db4",
   "metadata": {
    "papermill": {
     "duration": 0.005068,
     "end_time": "2024-03-21T14:21:54.172460",
     "exception": false,
     "start_time": "2024-03-21T14:21:54.167392",
     "status": "completed"
    },
    "tags": []
   },
   "source": [
    "##Starting the Analysis\n",
    "\n",
    "First check about basic data insights. Starting with BackUp-Creation"
   ]
  },
  {
   "cell_type": "code",
   "execution_count": 3,
   "id": "8ea244a7",
   "metadata": {
    "execution": {
     "iopub.execute_input": "2024-03-21T14:21:54.188507Z",
     "iopub.status.busy": "2024-03-21T14:21:54.187073Z",
     "iopub.status.idle": "2024-03-21T14:21:55.993279Z",
     "shell.execute_reply": "2024-03-21T14:21:55.991972Z"
    },
    "papermill": {
     "duration": 1.816608,
     "end_time": "2024-03-21T14:21:55.996161",
     "exception": false,
     "start_time": "2024-03-21T14:21:54.179553",
     "status": "completed"
    },
    "tags": []
   },
   "outputs": [],
   "source": [
    "# additional tools used\n",
    "import seaborn as sns"
   ]
  },
  {
   "cell_type": "code",
   "execution_count": 4,
   "id": "c840c25d",
   "metadata": {
    "execution": {
     "iopub.execute_input": "2024-03-21T14:21:56.007937Z",
     "iopub.status.busy": "2024-03-21T14:21:56.007496Z",
     "iopub.status.idle": "2024-03-21T14:21:56.072431Z",
     "shell.execute_reply": "2024-03-21T14:21:56.071211Z"
    },
    "papermill": {
     "duration": 0.073557,
     "end_time": "2024-03-21T14:21:56.074794",
     "exception": false,
     "start_time": "2024-03-21T14:21:56.001237",
     "status": "completed"
    },
    "tags": []
   },
   "outputs": [
    {
     "name": "stdout",
     "output_type": "stream",
     "text": [
      "raw strurcture\n"
     ]
    },
    {
     "data": {
      "text/html": [
       "<div>\n",
       "<style scoped>\n",
       "    .dataframe tbody tr th:only-of-type {\n",
       "        vertical-align: middle;\n",
       "    }\n",
       "\n",
       "    .dataframe tbody tr th {\n",
       "        vertical-align: top;\n",
       "    }\n",
       "\n",
       "    .dataframe thead th {\n",
       "        text-align: right;\n",
       "    }\n",
       "</style>\n",
       "<table border=\"1\" class=\"dataframe\">\n",
       "  <thead>\n",
       "    <tr style=\"text-align: right;\">\n",
       "      <th></th>\n",
       "      <th>Timestamp</th>\n",
       "      <th>age</th>\n",
       "      <th>Gender</th>\n",
       "      <th>Purchase_Frequency</th>\n",
       "      <th>Purchase_Categories</th>\n",
       "      <th>Personalized_Recommendation_Frequency</th>\n",
       "      <th>Browsing_Frequency</th>\n",
       "      <th>Product_Search_Method</th>\n",
       "      <th>Search_Result_Exploration</th>\n",
       "      <th>Customer_Reviews_Importance</th>\n",
       "      <th>...</th>\n",
       "      <th>Saveforlater_Frequency</th>\n",
       "      <th>Review_Left</th>\n",
       "      <th>Review_Reliability</th>\n",
       "      <th>Review_Helpfulness</th>\n",
       "      <th>Personalized_Recommendation_Frequency</th>\n",
       "      <th>Recommendation_Helpfulness</th>\n",
       "      <th>Rating_Accuracy</th>\n",
       "      <th>Shopping_Satisfaction</th>\n",
       "      <th>Service_Appreciation</th>\n",
       "      <th>Improvement_Areas</th>\n",
       "    </tr>\n",
       "  </thead>\n",
       "  <tbody>\n",
       "    <tr>\n",
       "      <th>0</th>\n",
       "      <td>2023/06/04 1:28:19 PM GMT+5:30</td>\n",
       "      <td>23</td>\n",
       "      <td>Female</td>\n",
       "      <td>Few times a month</td>\n",
       "      <td>Beauty and Personal Care</td>\n",
       "      <td>Yes</td>\n",
       "      <td>Few times a week</td>\n",
       "      <td>Keyword</td>\n",
       "      <td>Multiple pages</td>\n",
       "      <td>1</td>\n",
       "      <td>...</td>\n",
       "      <td>Sometimes</td>\n",
       "      <td>Yes</td>\n",
       "      <td>Occasionally</td>\n",
       "      <td>Yes</td>\n",
       "      <td>2</td>\n",
       "      <td>Yes</td>\n",
       "      <td>1</td>\n",
       "      <td>1</td>\n",
       "      <td>Competitive prices</td>\n",
       "      <td>Reducing packaging waste</td>\n",
       "    </tr>\n",
       "    <tr>\n",
       "      <th>1</th>\n",
       "      <td>2023/06/04 2:30:44 PM GMT+5:30</td>\n",
       "      <td>23</td>\n",
       "      <td>Female</td>\n",
       "      <td>Once a month</td>\n",
       "      <td>Clothing and Fashion</td>\n",
       "      <td>Yes</td>\n",
       "      <td>Few times a month</td>\n",
       "      <td>Keyword</td>\n",
       "      <td>Multiple pages</td>\n",
       "      <td>1</td>\n",
       "      <td>...</td>\n",
       "      <td>Rarely</td>\n",
       "      <td>No</td>\n",
       "      <td>Heavily</td>\n",
       "      <td>Yes</td>\n",
       "      <td>2</td>\n",
       "      <td>Sometimes</td>\n",
       "      <td>3</td>\n",
       "      <td>2</td>\n",
       "      <td>Wide product selection</td>\n",
       "      <td>Reducing packaging waste</td>\n",
       "    </tr>\n",
       "    <tr>\n",
       "      <th>2</th>\n",
       "      <td>2023/06/04 5:04:56 PM GMT+5:30</td>\n",
       "      <td>24</td>\n",
       "      <td>Prefer not to say</td>\n",
       "      <td>Few times a month</td>\n",
       "      <td>Groceries and Gourmet Food;Clothing and Fashion</td>\n",
       "      <td>No</td>\n",
       "      <td>Few times a month</td>\n",
       "      <td>Keyword</td>\n",
       "      <td>Multiple pages</td>\n",
       "      <td>2</td>\n",
       "      <td>...</td>\n",
       "      <td>Rarely</td>\n",
       "      <td>No</td>\n",
       "      <td>Occasionally</td>\n",
       "      <td>No</td>\n",
       "      <td>4</td>\n",
       "      <td>No</td>\n",
       "      <td>3</td>\n",
       "      <td>3</td>\n",
       "      <td>Competitive prices</td>\n",
       "      <td>Product quality and accuracy</td>\n",
       "    </tr>\n",
       "    <tr>\n",
       "      <th>3</th>\n",
       "      <td>2023/06/04 5:13:00 PM GMT+5:30</td>\n",
       "      <td>24</td>\n",
       "      <td>Female</td>\n",
       "      <td>Once a month</td>\n",
       "      <td>Beauty and Personal Care;Clothing and Fashion;...</td>\n",
       "      <td>Sometimes</td>\n",
       "      <td>Few times a month</td>\n",
       "      <td>Keyword</td>\n",
       "      <td>First page</td>\n",
       "      <td>5</td>\n",
       "      <td>...</td>\n",
       "      <td>Sometimes</td>\n",
       "      <td>Yes</td>\n",
       "      <td>Heavily</td>\n",
       "      <td>Yes</td>\n",
       "      <td>3</td>\n",
       "      <td>Sometimes</td>\n",
       "      <td>3</td>\n",
       "      <td>4</td>\n",
       "      <td>Competitive prices</td>\n",
       "      <td>Product quality and accuracy</td>\n",
       "    </tr>\n",
       "    <tr>\n",
       "      <th>4</th>\n",
       "      <td>2023/06/04 5:28:06 PM GMT+5:30</td>\n",
       "      <td>22</td>\n",
       "      <td>Female</td>\n",
       "      <td>Less than once a month</td>\n",
       "      <td>Beauty and Personal Care;Clothing and Fashion</td>\n",
       "      <td>Yes</td>\n",
       "      <td>Few times a month</td>\n",
       "      <td>Filter</td>\n",
       "      <td>Multiple pages</td>\n",
       "      <td>1</td>\n",
       "      <td>...</td>\n",
       "      <td>Rarely</td>\n",
       "      <td>No</td>\n",
       "      <td>Heavily</td>\n",
       "      <td>Yes</td>\n",
       "      <td>4</td>\n",
       "      <td>Yes</td>\n",
       "      <td>2</td>\n",
       "      <td>2</td>\n",
       "      <td>Competitive prices</td>\n",
       "      <td>Product quality and accuracy</td>\n",
       "    </tr>\n",
       "  </tbody>\n",
       "</table>\n",
       "<p>5 rows × 23 columns</p>\n",
       "</div>"
      ],
      "text/plain": [
       "                        Timestamp  age             Gender  \\\n",
       "0  2023/06/04 1:28:19 PM GMT+5:30   23             Female   \n",
       "1  2023/06/04 2:30:44 PM GMT+5:30   23             Female   \n",
       "2  2023/06/04 5:04:56 PM GMT+5:30   24  Prefer not to say   \n",
       "3  2023/06/04 5:13:00 PM GMT+5:30   24             Female   \n",
       "4  2023/06/04 5:28:06 PM GMT+5:30   22             Female   \n",
       "\n",
       "       Purchase_Frequency                                Purchase_Categories  \\\n",
       "0       Few times a month                           Beauty and Personal Care   \n",
       "1            Once a month                               Clothing and Fashion   \n",
       "2       Few times a month    Groceries and Gourmet Food;Clothing and Fashion   \n",
       "3            Once a month  Beauty and Personal Care;Clothing and Fashion;...   \n",
       "4  Less than once a month      Beauty and Personal Care;Clothing and Fashion   \n",
       "\n",
       "  Personalized_Recommendation_Frequency Browsing_Frequency  \\\n",
       "0                                   Yes   Few times a week   \n",
       "1                                   Yes  Few times a month   \n",
       "2                                    No  Few times a month   \n",
       "3                             Sometimes  Few times a month   \n",
       "4                                   Yes  Few times a month   \n",
       "\n",
       "  Product_Search_Method Search_Result_Exploration  \\\n",
       "0               Keyword            Multiple pages   \n",
       "1               Keyword            Multiple pages   \n",
       "2               Keyword            Multiple pages   \n",
       "3               Keyword                First page   \n",
       "4                Filter            Multiple pages   \n",
       "\n",
       "   Customer_Reviews_Importance  ... Saveforlater_Frequency Review_Left  \\\n",
       "0                            1  ...              Sometimes         Yes   \n",
       "1                            1  ...                 Rarely          No   \n",
       "2                            2  ...                 Rarely          No   \n",
       "3                            5  ...              Sometimes         Yes   \n",
       "4                            1  ...                 Rarely          No   \n",
       "\n",
       "  Review_Reliability Review_Helpfulness  \\\n",
       "0       Occasionally                Yes   \n",
       "1            Heavily                Yes   \n",
       "2       Occasionally                 No   \n",
       "3            Heavily                Yes   \n",
       "4            Heavily                Yes   \n",
       "\n",
       "  Personalized_Recommendation_Frequency  Recommendation_Helpfulness  \\\n",
       "0                                      2                        Yes   \n",
       "1                                      2                  Sometimes   \n",
       "2                                      4                         No   \n",
       "3                                      3                  Sometimes   \n",
       "4                                      4                        Yes   \n",
       "\n",
       "  Rating_Accuracy   Shopping_Satisfaction    Service_Appreciation  \\\n",
       "0                1                      1      Competitive prices   \n",
       "1                3                      2  Wide product selection   \n",
       "2                3                      3      Competitive prices   \n",
       "3                3                      4      Competitive prices   \n",
       "4                2                      2      Competitive prices   \n",
       "\n",
       "              Improvement_Areas  \n",
       "0      Reducing packaging waste  \n",
       "1      Reducing packaging waste  \n",
       "2  Product quality and accuracy  \n",
       "3  Product quality and accuracy  \n",
       "4  Product quality and accuracy  \n",
       "\n",
       "[5 rows x 23 columns]"
      ]
     },
     "execution_count": 4,
     "metadata": {},
     "output_type": "execute_result"
    }
   ],
   "source": [
    "raw_data = pd.read_csv(\"/kaggle/input/amazon-consumer-behaviour-dataset/Amazon Customer Behavior Survey.csv\")\n",
    "original_data = raw_data.copy()\n",
    "print(\"raw strurcture\")\n",
    "raw_data.head()\n"
   ]
  },
  {
   "cell_type": "code",
   "execution_count": 5,
   "id": "76e26200",
   "metadata": {
    "execution": {
     "iopub.execute_input": "2024-03-21T14:21:56.088534Z",
     "iopub.status.busy": "2024-03-21T14:21:56.087445Z",
     "iopub.status.idle": "2024-03-21T14:21:56.120658Z",
     "shell.execute_reply": "2024-03-21T14:21:56.119518Z"
    },
    "papermill": {
     "duration": 0.043254,
     "end_time": "2024-03-21T14:21:56.123500",
     "exception": false,
     "start_time": "2024-03-21T14:21:56.080246",
     "status": "completed"
    },
    "tags": []
   },
   "outputs": [
    {
     "name": "stdout",
     "output_type": "stream",
     "text": [
      "more insights\n"
     ]
    },
    {
     "data": {
      "text/html": [
       "<div>\n",
       "<style scoped>\n",
       "    .dataframe tbody tr th:only-of-type {\n",
       "        vertical-align: middle;\n",
       "    }\n",
       "\n",
       "    .dataframe tbody tr th {\n",
       "        vertical-align: top;\n",
       "    }\n",
       "\n",
       "    .dataframe thead th {\n",
       "        text-align: right;\n",
       "    }\n",
       "</style>\n",
       "<table border=\"1\" class=\"dataframe\">\n",
       "  <thead>\n",
       "    <tr style=\"text-align: right;\">\n",
       "      <th></th>\n",
       "      <th>age</th>\n",
       "      <th>Customer_Reviews_Importance</th>\n",
       "      <th>Personalized_Recommendation_Frequency</th>\n",
       "      <th>Rating_Accuracy</th>\n",
       "      <th>Shopping_Satisfaction</th>\n",
       "    </tr>\n",
       "  </thead>\n",
       "  <tbody>\n",
       "    <tr>\n",
       "      <th>count</th>\n",
       "      <td>602.000000</td>\n",
       "      <td>602.000000</td>\n",
       "      <td>602.000000</td>\n",
       "      <td>602.000000</td>\n",
       "      <td>602.000000</td>\n",
       "    </tr>\n",
       "    <tr>\n",
       "      <th>mean</th>\n",
       "      <td>30.790698</td>\n",
       "      <td>2.480066</td>\n",
       "      <td>2.699336</td>\n",
       "      <td>2.672757</td>\n",
       "      <td>2.463455</td>\n",
       "    </tr>\n",
       "    <tr>\n",
       "      <th>std</th>\n",
       "      <td>10.193276</td>\n",
       "      <td>1.185226</td>\n",
       "      <td>1.042028</td>\n",
       "      <td>0.899744</td>\n",
       "      <td>1.012152</td>\n",
       "    </tr>\n",
       "    <tr>\n",
       "      <th>min</th>\n",
       "      <td>3.000000</td>\n",
       "      <td>1.000000</td>\n",
       "      <td>1.000000</td>\n",
       "      <td>1.000000</td>\n",
       "      <td>1.000000</td>\n",
       "    </tr>\n",
       "    <tr>\n",
       "      <th>25%</th>\n",
       "      <td>23.000000</td>\n",
       "      <td>1.000000</td>\n",
       "      <td>2.000000</td>\n",
       "      <td>2.000000</td>\n",
       "      <td>2.000000</td>\n",
       "    </tr>\n",
       "    <tr>\n",
       "      <th>50%</th>\n",
       "      <td>26.000000</td>\n",
       "      <td>3.000000</td>\n",
       "      <td>3.000000</td>\n",
       "      <td>3.000000</td>\n",
       "      <td>2.000000</td>\n",
       "    </tr>\n",
       "    <tr>\n",
       "      <th>75%</th>\n",
       "      <td>36.000000</td>\n",
       "      <td>3.000000</td>\n",
       "      <td>3.000000</td>\n",
       "      <td>3.000000</td>\n",
       "      <td>3.000000</td>\n",
       "    </tr>\n",
       "    <tr>\n",
       "      <th>max</th>\n",
       "      <td>67.000000</td>\n",
       "      <td>5.000000</td>\n",
       "      <td>5.000000</td>\n",
       "      <td>5.000000</td>\n",
       "      <td>5.000000</td>\n",
       "    </tr>\n",
       "  </tbody>\n",
       "</table>\n",
       "</div>"
      ],
      "text/plain": [
       "              age  Customer_Reviews_Importance  \\\n",
       "count  602.000000                   602.000000   \n",
       "mean    30.790698                     2.480066   \n",
       "std     10.193276                     1.185226   \n",
       "min      3.000000                     1.000000   \n",
       "25%     23.000000                     1.000000   \n",
       "50%     26.000000                     3.000000   \n",
       "75%     36.000000                     3.000000   \n",
       "max     67.000000                     5.000000   \n",
       "\n",
       "       Personalized_Recommendation_Frequency   Rating_Accuracy   \\\n",
       "count                              602.000000        602.000000   \n",
       "mean                                 2.699336          2.672757   \n",
       "std                                  1.042028          0.899744   \n",
       "min                                  1.000000          1.000000   \n",
       "25%                                  2.000000          2.000000   \n",
       "50%                                  3.000000          3.000000   \n",
       "75%                                  3.000000          3.000000   \n",
       "max                                  5.000000          5.000000   \n",
       "\n",
       "       Shopping_Satisfaction  \n",
       "count             602.000000  \n",
       "mean                2.463455  \n",
       "std                 1.012152  \n",
       "min                 1.000000  \n",
       "25%                 2.000000  \n",
       "50%                 2.000000  \n",
       "75%                 3.000000  \n",
       "max                 5.000000  "
      ]
     },
     "execution_count": 5,
     "metadata": {},
     "output_type": "execute_result"
    }
   ],
   "source": [
    "print(\"more insights\")\n",
    "original_data.describe()"
   ]
  },
  {
   "cell_type": "code",
   "execution_count": 6,
   "id": "a986a703",
   "metadata": {
    "execution": {
     "iopub.execute_input": "2024-03-21T14:21:56.137292Z",
     "iopub.status.busy": "2024-03-21T14:21:56.136863Z",
     "iopub.status.idle": "2024-03-21T14:21:56.164687Z",
     "shell.execute_reply": "2024-03-21T14:21:56.163477Z"
    },
    "papermill": {
     "duration": 0.038952,
     "end_time": "2024-03-21T14:21:56.168690",
     "exception": false,
     "start_time": "2024-03-21T14:21:56.129738",
     "status": "completed"
    },
    "tags": []
   },
   "outputs": [
    {
     "name": "stdout",
     "output_type": "stream",
     "text": [
      "<class 'pandas.core.frame.DataFrame'>\n",
      "RangeIndex: 602 entries, 0 to 601\n",
      "Data columns (total 23 columns):\n",
      " #   Column                                  Non-Null Count  Dtype \n",
      "---  ------                                  --------------  ----- \n",
      " 0   Timestamp                               602 non-null    object\n",
      " 1   age                                     602 non-null    int64 \n",
      " 2   Gender                                  602 non-null    object\n",
      " 3   Purchase_Frequency                      602 non-null    object\n",
      " 4   Purchase_Categories                     602 non-null    object\n",
      " 5   Personalized_Recommendation_Frequency   602 non-null    object\n",
      " 6   Browsing_Frequency                      602 non-null    object\n",
      " 7   Product_Search_Method                   600 non-null    object\n",
      " 8   Search_Result_Exploration               602 non-null    object\n",
      " 9   Customer_Reviews_Importance             602 non-null    int64 \n",
      " 10  Add_to_Cart_Browsing                    602 non-null    object\n",
      " 11  Cart_Completion_Frequency               602 non-null    object\n",
      " 12  Cart_Abandonment_Factors                602 non-null    object\n",
      " 13  Saveforlater_Frequency                  602 non-null    object\n",
      " 14  Review_Left                             602 non-null    object\n",
      " 15  Review_Reliability                      602 non-null    object\n",
      " 16  Review_Helpfulness                      602 non-null    object\n",
      " 17  Personalized_Recommendation_Frequency   602 non-null    int64 \n",
      " 18  Recommendation_Helpfulness              602 non-null    object\n",
      " 19  Rating_Accuracy                         602 non-null    int64 \n",
      " 20  Shopping_Satisfaction                   602 non-null    int64 \n",
      " 21  Service_Appreciation                    602 non-null    object\n",
      " 22  Improvement_Areas                       602 non-null    object\n",
      "dtypes: int64(5), object(18)\n",
      "memory usage: 108.3+ KB\n",
      "None \n",
      "\n",
      "Timestamp                                 0\n",
      "age                                       0\n",
      "Gender                                    0\n",
      "Purchase_Frequency                        0\n",
      "Purchase_Categories                       0\n",
      "Personalized_Recommendation_Frequency     0\n",
      "Browsing_Frequency                        0\n",
      "Product_Search_Method                     2\n",
      "Search_Result_Exploration                 0\n",
      "Customer_Reviews_Importance               0\n",
      "Add_to_Cart_Browsing                      0\n",
      "Cart_Completion_Frequency                 0\n",
      "Cart_Abandonment_Factors                  0\n",
      "Saveforlater_Frequency                    0\n",
      "Review_Left                               0\n",
      "Review_Reliability                        0\n",
      "Review_Helpfulness                        0\n",
      "Personalized_Recommendation_Frequency     0\n",
      "Recommendation_Helpfulness                0\n",
      "Rating_Accuracy                           0\n",
      "Shopping_Satisfaction                     0\n",
      "Service_Appreciation                      0\n",
      "Improvement_Areas                         0\n",
      "dtype: int64\n"
     ]
    }
   ],
   "source": [
    "print(original_data.info(),\"\\n\")\n",
    "\n",
    "print(original_data.isna().sum())"
   ]
  },
  {
   "cell_type": "code",
   "execution_count": 7,
   "id": "cb844969",
   "metadata": {
    "execution": {
     "iopub.execute_input": "2024-03-21T14:21:56.183870Z",
     "iopub.status.busy": "2024-03-21T14:21:56.182822Z",
     "iopub.status.idle": "2024-03-21T14:21:56.212999Z",
     "shell.execute_reply": "2024-03-21T14:21:56.211674Z"
    },
    "papermill": {
     "duration": 0.040666,
     "end_time": "2024-03-21T14:21:56.215456",
     "exception": false,
     "start_time": "2024-03-21T14:21:56.174790",
     "status": "completed"
    },
    "tags": []
   },
   "outputs": [
    {
     "name": "stdout",
     "output_type": "stream",
     "text": [
      "442     3\n",
      "578    12\n",
      "237    15\n",
      "Name: age, dtype: int64\n"
     ]
    },
    {
     "data": {
      "text/html": [
       "<div>\n",
       "<style scoped>\n",
       "    .dataframe tbody tr th:only-of-type {\n",
       "        vertical-align: middle;\n",
       "    }\n",
       "\n",
       "    .dataframe tbody tr th {\n",
       "        vertical-align: top;\n",
       "    }\n",
       "\n",
       "    .dataframe thead th {\n",
       "        text-align: right;\n",
       "    }\n",
       "</style>\n",
       "<table border=\"1\" class=\"dataframe\">\n",
       "  <thead>\n",
       "    <tr style=\"text-align: right;\">\n",
       "      <th></th>\n",
       "      <th>Timestamp</th>\n",
       "      <th>age</th>\n",
       "      <th>Gender</th>\n",
       "      <th>Purchase_Frequency</th>\n",
       "      <th>Purchase_Categories</th>\n",
       "      <th>Personalized_Recommendation_Frequency</th>\n",
       "      <th>Browsing_Frequency</th>\n",
       "      <th>Product_Search_Method</th>\n",
       "      <th>Search_Result_Exploration</th>\n",
       "      <th>Customer_Reviews_Importance</th>\n",
       "      <th>...</th>\n",
       "      <th>Saveforlater_Frequency</th>\n",
       "      <th>Review_Left</th>\n",
       "      <th>Review_Reliability</th>\n",
       "      <th>Review_Helpfulness</th>\n",
       "      <th>Personalized_Recommendation_Frequency</th>\n",
       "      <th>Recommendation_Helpfulness</th>\n",
       "      <th>Rating_Accuracy</th>\n",
       "      <th>Shopping_Satisfaction</th>\n",
       "      <th>Service_Appreciation</th>\n",
       "      <th>Improvement_Areas</th>\n",
       "    </tr>\n",
       "  </thead>\n",
       "  <tbody>\n",
       "    <tr>\n",
       "      <th>119</th>\n",
       "      <td>2023/06/06 2:07:12 PM GMT+5:30</td>\n",
       "      <td>21</td>\n",
       "      <td>Female</td>\n",
       "      <td>Once a month</td>\n",
       "      <td>Clothing and Fashion</td>\n",
       "      <td>Sometimes</td>\n",
       "      <td>Few times a week</td>\n",
       "      <td>NaN</td>\n",
       "      <td>Multiple pages</td>\n",
       "      <td>3</td>\n",
       "      <td>...</td>\n",
       "      <td>Often</td>\n",
       "      <td>No</td>\n",
       "      <td>Moderately</td>\n",
       "      <td>Sometimes</td>\n",
       "      <td>3</td>\n",
       "      <td>Sometimes</td>\n",
       "      <td>3</td>\n",
       "      <td>3</td>\n",
       "      <td>User-friendly website/app interface</td>\n",
       "      <td>Customer service responsiveness</td>\n",
       "    </tr>\n",
       "    <tr>\n",
       "      <th>382</th>\n",
       "      <td>2023/06/08 5:49:59 PM GMT+5:30</td>\n",
       "      <td>47</td>\n",
       "      <td>Female</td>\n",
       "      <td>Few times a month</td>\n",
       "      <td>Beauty and Personal Care;Clothing and Fashion;...</td>\n",
       "      <td>No</td>\n",
       "      <td>Multiple times a day</td>\n",
       "      <td>NaN</td>\n",
       "      <td>Multiple pages</td>\n",
       "      <td>1</td>\n",
       "      <td>...</td>\n",
       "      <td>Often</td>\n",
       "      <td>No</td>\n",
       "      <td>Moderately</td>\n",
       "      <td>No</td>\n",
       "      <td>2</td>\n",
       "      <td>No</td>\n",
       "      <td>3</td>\n",
       "      <td>2</td>\n",
       "      <td>Wide product selection</td>\n",
       "      <td>Shipping speed and reliability</td>\n",
       "    </tr>\n",
       "  </tbody>\n",
       "</table>\n",
       "<p>2 rows × 23 columns</p>\n",
       "</div>"
      ],
      "text/plain": [
       "                          Timestamp  age  Gender Purchase_Frequency  \\\n",
       "119  2023/06/06 2:07:12 PM GMT+5:30   21  Female       Once a month   \n",
       "382  2023/06/08 5:49:59 PM GMT+5:30   47  Female  Few times a month   \n",
       "\n",
       "                                   Purchase_Categories  \\\n",
       "119                               Clothing and Fashion   \n",
       "382  Beauty and Personal Care;Clothing and Fashion;...   \n",
       "\n",
       "    Personalized_Recommendation_Frequency    Browsing_Frequency  \\\n",
       "119                             Sometimes      Few times a week   \n",
       "382                                    No  Multiple times a day   \n",
       "\n",
       "    Product_Search_Method Search_Result_Exploration  \\\n",
       "119                   NaN            Multiple pages   \n",
       "382                   NaN            Multiple pages   \n",
       "\n",
       "     Customer_Reviews_Importance  ... Saveforlater_Frequency Review_Left  \\\n",
       "119                            3  ...                  Often          No   \n",
       "382                            1  ...                  Often          No   \n",
       "\n",
       "    Review_Reliability Review_Helpfulness  \\\n",
       "119         Moderately          Sometimes   \n",
       "382         Moderately                 No   \n",
       "\n",
       "    Personalized_Recommendation_Frequency  Recommendation_Helpfulness  \\\n",
       "119                                      3                  Sometimes   \n",
       "382                                      2                         No   \n",
       "\n",
       "    Rating_Accuracy   Shopping_Satisfaction  \\\n",
       "119                3                      3   \n",
       "382                3                      2   \n",
       "\n",
       "                    Service_Appreciation                Improvement_Areas  \n",
       "119  User-friendly website/app interface  Customer service responsiveness  \n",
       "382               Wide product selection   Shipping speed and reliability  \n",
       "\n",
       "[2 rows x 23 columns]"
      ]
     },
     "execution_count": 7,
     "metadata": {},
     "output_type": "execute_result"
    }
   ],
   "source": [
    "lowest_age = raw_data.nsmallest(10,'age')\n",
    "print(lowest_age['age'].head(3))\n",
    "original_data[original_data[\"Product_Search_Method\"].isna()]"
   ]
  },
  {
   "cell_type": "code",
   "execution_count": 8,
   "id": "78e8bd51",
   "metadata": {
    "execution": {
     "iopub.execute_input": "2024-03-21T14:21:56.230025Z",
     "iopub.status.busy": "2024-03-21T14:21:56.229660Z",
     "iopub.status.idle": "2024-03-21T14:21:56.245488Z",
     "shell.execute_reply": "2024-03-21T14:21:56.244289Z"
    },
    "papermill": {
     "duration": 0.026259,
     "end_time": "2024-03-21T14:21:56.248223",
     "exception": false,
     "start_time": "2024-03-21T14:21:56.221964",
     "status": "completed"
    },
    "tags": []
   },
   "outputs": [],
   "source": [
    "#raw_data.drop(442,inplace=True)\n",
    "mode = raw_data['Product_Search_Method'].mode()[0]\n",
    "raw_data.fillna(mode,inplace=True)\n",
    "raw_data.drop_duplicates(inplace=True)\n",
    "##raw_data.loc[[442]]"
   ]
  },
  {
   "cell_type": "code",
   "execution_count": 9,
   "id": "2b5ee7ed",
   "metadata": {
    "execution": {
     "iopub.execute_input": "2024-03-21T14:21:56.263699Z",
     "iopub.status.busy": "2024-03-21T14:21:56.263304Z",
     "iopub.status.idle": "2024-03-21T14:21:56.877705Z",
     "shell.execute_reply": "2024-03-21T14:21:56.876352Z"
    },
    "papermill": {
     "duration": 0.625229,
     "end_time": "2024-03-21T14:21:56.880511",
     "exception": false,
     "start_time": "2024-03-21T14:21:56.255282",
     "status": "completed"
    },
    "tags": []
   },
   "outputs": [
    {
     "data": {
      "text/plain": [
       "<Axes: >"
      ]
     },
     "execution_count": 9,
     "metadata": {},
     "output_type": "execute_result"
    },
    {
     "data": {
      "image/png": "[encoded data removed]",
      "text/plain": [
       "<Figure size 640x480 with 2 Axes>"
      ]
     },
     "metadata": {},
     "output_type": "display_data"
    }
   ],
   "source": [
    "corr_matrix = raw_data.corr(method='pearson',numeric_only=True)\n",
    "sns.heatmap(data=corr_matrix,annot=True)"
   ]
  },
  {
   "cell_type": "markdown",
   "id": "c137c25b",
   "metadata": {
    "papermill": {
     "duration": 0.007785,
     "end_time": "2024-03-21T14:21:56.896046",
     "exception": false,
     "start_time": "2024-03-21T14:21:56.888261",
     "status": "completed"
    },
    "tags": []
   },
   "source": [
    "## Analysis of Correaltion\n",
    "\n",
    "**Biggest (realtivly strong) correlation** between Rating_Accuracy and Shopping_Statisfaction. The higher the rating accuracy the higher also the customer is *happy* with his shopping experience. In the context the **Rating_Accuracy** is the main key factor for all three correlations of satisfaction, frequency and importance.\n",
    "\n",
    "**Smaller (realtivly weak) correlation:** \n",
    "The higher the Shopping Satisfaction (or vise versa affected by)\n",
    "- Review Importance by 0.4\n",
    "- Personalized Recomm. by 0.44\n",
    "-  Rating Accuracy by 0.51"
   ]
  },
  {
   "cell_type": "code",
   "execution_count": null,
   "id": "6f0dfe9f",
   "metadata": {
    "papermill": {
     "duration": 0.007325,
     "end_time": "2024-03-21T14:21:56.911330",
     "exception": false,
     "start_time": "2024-03-21T14:21:56.904005",
     "status": "completed"
    },
    "tags": []
   },
   "outputs": [],
   "source": []
  }
 ],
 "metadata": {
  "kaggle": {
   "accelerator": "none",
   "dataSources": [
    {
     "datasetId": 3486077,
     "sourceId": 6087933,
     "sourceType": "datasetVersion"
    }
   ],
   "dockerImageVersionId": 30664,
   "isGpuEnabled": false,
   "isInternetEnabled": true,
   "language": "python",
   "sourceType": "notebook"
  },
  "kernelspec": {
   "display_name": "Python 3",
   "language": "python",
   "name": "python3"
  },
  "language_info": {
   "codemirror_mode": {
    "name": "ipython",
    "version": 3
   },
   "file_extension": ".py",
   "mimetype": "text/x-python",
   "name": "python",
   "nbconvert_exporter": "python",
   "pygments_lexer": "ipython3",
   "version": "3.10.13"
  },
  "papermill": {
   "default_parameters": {},
   "duration": 7.75812,
   "end_time": "2024-03-21T14:21:57.540974",
   "environment_variables": {},
   "exception": null,
   "input_path": "__notebook__.ipynb",
   "output_path": "__notebook__.ipynb",
   "parameters": {},
   "start_time": "2024-03-21T14:21:49.782854",
   "version": "2.5.0"
  }
 },
 "nbformat": 4,
 "nbformat_minor": 5
}
